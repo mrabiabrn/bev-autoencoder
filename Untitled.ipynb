{
 "cells": [
  {
   "cell_type": "code",
   "execution_count": 1,
   "id": "48301467-7656-40b9-8df8-694426dbfc5b",
   "metadata": {},
   "outputs": [],
   "source": [
    "%load_ext autoreload\n",
    "%autoreload 2"
   ]
  },
  {
   "cell_type": "code",
   "execution_count": 3,
   "id": "6cc907e9-414a-4e8e-997f-42267e81d3f8",
   "metadata": {},
   "outputs": [],
   "source": [
    "\"\"\"\n",
    "    This code is adapted from https://github.com/aharley/simple_bev/nuscenesdataset.py\n",
    "\"\"\"\n",
    "\n",
    "\n",
    "import numpy\n",
    "import numpy as np\n",
    "import random\n",
    "import os\n",
    "from PIL import Image\n",
    "import cv2\n",
    "import io\n",
    "import torch\n",
    "import torchvision\n",
    "from torch.utils.data import Dataset\n",
    "import matplotlib.path as mplPath\n",
    "from pyquaternion import Quaternion\n",
    "from nuscenes.nuscenes import NuScenes\n",
    "from nuscenes.utils.splits import create_splits_scenes\n",
    "from nuscenes.utils.data_classes import Box\n",
    "from nuscenes.map_expansion.map_api import NuScenesMap\n",
    "from functools import reduce\n",
    "from nuscenes.utils.geometry_utils import transform_matrix\n",
    "\n",
    "import torch.nn.functional as F\n",
    "import torchvision.transforms.functional as TF\n",
    "\n",
    "#from nuscenesdataset import get_nusc_maps, fetch_nusc_map2, add_ego2\n",
    "\n",
    "from bev_utils import geom, py, vox, improc\n",
    "import matplotlib.pyplot as plt\n",
    "\n",
    "from nuscenes.eval.common.utils import quaternion_yaw\n",
    "from nuscenes.prediction import PredictHelper\n",
    "from nuscenes.prediction.input_representation.static_layers import StaticLayerRasterizer, draw_lanes_in_agent_frame, get_lanes_in_radius, draw_lanes_on_image, color_by_yaw, get_patchbox\n",
    "from nuscenes.prediction.input_representation.utils import get_crops, get_rotation_matrix, convert_to_pixel_coords\n",
    "from nuscenes.prediction.helper import angle_of_rotation, angle_diff\n",
    "\n",
    "\n",
    "discard_invisible = False\n",
    "\n",
    "totorch_img = torchvision.transforms.Compose((\n",
    "    torchvision.transforms.ToTensor(),\n",
    "))\n",
    "\n",
    "COUNT = 0\n",
    "\n",
    "MAP_NAME_ID_ABBR = [\n",
    "    (0, \"us-nv-las-vegas-strip\", \"LAV\"),\n",
    "    (1, \"us-pa-pittsburgh-hazelwood\", \"PGH\"),\n",
    "    (2, \"sg-one-north\", \"SGP\"),\n",
    "    (3, \"us-ma-boston\", \"BOS\"),\n",
    "]\n",
    "\n",
    "MAP_NAME_TO_ID = {name: id for id, name, abbr in MAP_NAME_ID_ABBR}\n",
    "MAP_ID_TO_NAME = {id: name for id, name, abbr in MAP_NAME_ID_ABBR}\n",
    "MAP_ID_TO_ABBR = {id: abbr for id, name, abbr in MAP_NAME_ID_ABBR}\n",
    "\n",
    "_LINE_X = 0\n",
    "_LINE_Y = 1\n",
    "_VEHICLE_X = 2\n",
    "_VEHICLE_Y = 3\n",
    "_PEDESTRIAN_X = 4\n",
    "_PEDESTRIAN_Y = 5\n",
    "_STATIC_OBJECT_X = 6\n",
    "_STATIC_OBJECT_Y = 7\n",
    "_GREEN_LIGHT_X = 8\n",
    "_GREEN_LIGHT_Y = 9\n",
    "_RED_LIGHT_X = 10\n",
    "_RED_LIGHT_Y = 11\n",
    "\n",
    "\n",
    "def rgba2rgb( rgba, background=(255,255,255) ):\n",
    "    row, col, ch = rgba.shape\n",
    "\n",
    "    if ch == 3:\n",
    "        return rgba\n",
    "\n",
    "    assert ch == 4, 'RGBA image has 4 channels.'\n",
    "\n",
    "    rgb = np.zeros( (row, col, 3), dtype='float32' )\n",
    "    r, g, b, a = rgba[:,:,0], rgba[:,:,1], rgba[:,:,2], rgba[:,:,3]\n",
    "\n",
    "    a = np.asarray( a, dtype='float32' ) / 255.0\n",
    "\n",
    "    R, G, B = background\n",
    "\n",
    "    rgb[:,:,0] = r * a + (1.0 - a) * R\n",
    "    rgb[:,:,1] = g * a + (1.0 - a) * G\n",
    "    rgb[:,:,2] = b * a + (1.0 - a) * B\n",
    "\n",
    "    return np.asarray( rgb, dtype='uint8' )\n",
    "\n",
    "\n",
    "def img_transform(img, resize_dims, crop):\n",
    "    img = img.resize(resize_dims, Image.NEAREST)\n",
    "    img = img.crop(crop)\n",
    "    return img\n",
    "\n",
    "def move_refcam(data, refcam_id):\n",
    "\n",
    "    data_ref = data[refcam_id].clone()\n",
    "    data_0 = data[0].clone()\n",
    "\n",
    "    data[0] = data_ref\n",
    "    data[refcam_id] = data_0\n",
    "\n",
    "    return data\n",
    "\n",
    "\n",
    "def gen_dx_bx(xbound, ybound, zbound):\n",
    "    dx = torch.Tensor([row[2] for row in [xbound, ybound, zbound]])\n",
    "    bx = torch.Tensor([row[0] + row[2]/2.0 for row in [xbound, ybound, zbound]])\n",
    "    nx = torch.LongTensor([int((row[1] - row[0]) / row[2]) for row in [xbound, ybound, zbound]])\n",
    "\n",
    "    return dx, bx, nx\n",
    "\n",
    "\n",
    "def get_rot(h):\n",
    "    return torch.Tensor([\n",
    "        [np.cos(h), np.sin(h)],\n",
    "        [-np.sin(h), np.cos(h)],\n",
    "    ])\n",
    "\n",
    "\n",
    "def add_ego(bx, dx):\n",
    "    # approximate rear axel\n",
    "    W = 1.85\n",
    "    pts = np.array([\n",
    "        [-4.084/2.+0.5, W/2.],\n",
    "        [4.084/2.+0.5, W/2.],\n",
    "        [4.084/2.+0.5, -W/2.],\n",
    "        [-4.084/2.+0.5, -W/2.],\n",
    "    ])\n",
    "    pts = (pts - bx) / dx\n",
    "    pts[:, [0,1]] = pts[:, [1,0]]\n",
    "    plt.fill(pts[:, 0], pts[:, 1], '#76b900')\n",
    "\n",
    "\n",
    "def rotate_points_2d(points, rotation_mat):\n",
    "    num_points = points.shape[0]\n",
    "    ones = np.ones((num_points, 1))\n",
    "    points_hom = np.hstack([points, ones])  # shape (N, 3)\n",
    "    \n",
    "    rotated_hom = points_hom.dot(rotation_mat.T)  # (N,3) * (3,2) = (N,2)\n",
    "    \n",
    "    return rotated_hom\n",
    "\n",
    "\n",
    "def resample_lane_pts(lane_points, num_samples=20):\n",
    "    \"\"\"\n",
    "    Resample a lane (list/array of (x, y) points) into 'num_samples' equally spaced points.\n",
    "    \n",
    "    :param lane_points: Nx2 array-like of x, y coordinates\n",
    "    :param num_samples: number of desired sample points in output\n",
    "    :return: (num_samples x 2) array of resampled x, y coordinates\n",
    "    \"\"\"\n",
    "    lane_points = np.asarray(lane_points, dtype=float)\n",
    "        \n",
    "    diffs = lane_points[1:] - lane_points[:-1]      # (N-1, 2)\n",
    "    seg_lengths = np.sqrt((diffs**2).sum(axis=1))   # (N-1,)\n",
    "    \n",
    "    cum_lengths = np.insert(np.cumsum(seg_lengths), 0, 0.0)  # shape: (N,)\n",
    "    total_length = cum_lengths[-1]\n",
    "    \n",
    "    target_distances = np.linspace(0, total_length, num=num_samples, endpoint=True)\n",
    "    \n",
    "    resampled_points = []\n",
    "    \n",
    "    seg_index = 0\n",
    "    for dist in target_distances:\n",
    "        while seg_index < len(cum_lengths) - 2 and dist > cum_lengths[seg_index + 1]:\n",
    "            seg_index += 1\n",
    "        \n",
    "        seg_start_length = cum_lengths[seg_index]\n",
    "        seg_end_length   = cum_lengths[seg_index + 1]\n",
    "        \n",
    "        seg_frac = (dist - seg_start_length) / (seg_end_length - seg_start_length + 1e-9)\n",
    "        seg_frac = np.clip(seg_frac, 0.0, 1.0)  \n",
    "        \n",
    "        pt_start = lane_points[seg_index]\n",
    "        pt_end   = lane_points[seg_index + 1]\n",
    "        \n",
    "        interp_xy = pt_start + seg_frac * (pt_end - pt_start)\n",
    "        resampled_points.append(interp_xy)\n",
    "    \n",
    "    return np.array(resampled_points)\n",
    "\n",
    "class NuscenesDataset(Dataset):\n",
    "\n",
    "    def __init__(\n",
    "        self,\n",
    "        args,\n",
    "        nusc\n",
    "    ):\n",
    "        self.is_train = args.is_train\n",
    "\n",
    "        self.rand_crop_and_resize = args.rand_crop_and_resize\n",
    "        self.final_dim = args.bev_resolution\n",
    "        self.img_resolution = args.img_resolution\n",
    "        if self.rand_crop_and_resize:\n",
    "            self.resize_lim = [0.8,1.2]\n",
    "            self.crop_offset = int(self.final_dim[0]*(1-self.resize_lim[0]))\n",
    "        else:\n",
    "            self.resize_lim  = [1.0,1.0]\n",
    "            self.crop_offset = 0\n",
    "        self.H = args.H\n",
    "        self.W = args.W\n",
    "        self.cams = args.cams\n",
    "        self.ncams = args.ncams\n",
    "        self.do_shuffle_cams = args.do_shuffle_cams\n",
    "        self.refcam_id = args.refcam_id\n",
    "        self.bounds = args.bounds\n",
    "\n",
    "        self.version = args.version\n",
    "\n",
    "        self.dataroot = args.dataset_path\n",
    "\n",
    "        self.X, self.Y, self.Z = (self.final_dim[0], 8, self.final_dim[1]) #args.voxel_size\n",
    "        self.nusc = nusc\n",
    "\n",
    "        split = 'train' if args.is_train else 'val'\n",
    "        scenes = create_splits_scenes()[split]\n",
    "            \n",
    "        samples = [samp for samp in self.nusc.sample]\n",
    "        samples = [samp for samp in samples if self.nusc.get('scene', samp['scene_token'])['name'] in scenes]\n",
    "        samples.sort(key=lambda x: (x['scene_token'], x['timestamp']))\n",
    "\n",
    "        self.samples = samples\n",
    "        self.city_names = self.get_city_names(samples)\n",
    "\n",
    "        XMIN, XMAX, YMIN, YMAX, ZMIN, ZMAX = args.bounds\n",
    "\n",
    "        grid_conf = { # note the downstream util uses a different XYZ ordering\n",
    "            'xbound': [XMIN, XMAX, (XMAX-XMIN)/float(self.X)],\n",
    "            'ybound': [ZMIN, ZMAX, (ZMAX-ZMIN)/float(self.Z)],\n",
    "            'zbound': [YMIN, YMAX, (YMAX-YMIN)/float(self.Y)],\n",
    "        }\n",
    "        dx, bx, nx = gen_dx_bx(grid_conf['xbound'], grid_conf['ybound'], grid_conf['zbound'])\n",
    "        self.dx, self.bx, self.nx = dx.numpy(), bx.numpy(), nx.numpy()\n",
    "\n",
    "        self.nsweeps = 1\n",
    "        self.use_radar_filters = False\n",
    "\n",
    "        # the scene centroid is defined wrt a reference camera,\n",
    "        # which is usually random\n",
    "        scene_centroid_x = 0.0\n",
    "        scene_centroid_y = 1.0 # down 1 meter\n",
    "        scene_centroid_z = 0.0\n",
    "\n",
    "        scene_centroid_py = np.array([scene_centroid_x,\n",
    "                                    scene_centroid_y,\n",
    "                                    scene_centroid_z]).reshape([1, 3])\n",
    "        scene_centroid = torch.from_numpy(scene_centroid_py).float().cuda()\n",
    "\n",
    "        self.vox_util = vox.Vox_util(\n",
    "            self.Z, self.Y, self.X,\n",
    "            scene_centroid=scene_centroid,\n",
    "            bounds=self.bounds,\n",
    "            assert_cube=False)\n",
    "        \n",
    "        self.vehicle_classes = ['car', 'truck', 'construction_vehicle', 'bus', 'trailer', 'barrier', 'motorcycle', 'bicycle', 'pedestrian', 'traffic_cone']\n",
    "\n",
    "        self.helper = PredictHelper(nusc)\n",
    "        self.lane_rasterizer = StaticLayerRasterizer(self.helper)\n",
    "        \n",
    "        self.lane_rasterizer.meters_ahead = 64.0\n",
    "        self.lane_rasterizer.meters_behind = 64.0\n",
    "        self.lane_rasterizer.meters_left = 64.0\n",
    "        self.lane_rasterizer.meters_right = 64.0\n",
    "        self.lane_rasterizer.resolution = 0.5\n",
    "        \n",
    "        self.image_side_length = 2 * max(self.lane_rasterizer.meters_ahead, self.lane_rasterizer.meters_behind,\n",
    "                                    self.lane_rasterizer.meters_left, self.lane_rasterizer.meters_right)\n",
    "        self.image_side_length_pixels = int(self.image_side_length / self.lane_rasterizer.resolution)\n",
    "        \n",
    "\n",
    "    \n",
    "    def get_city_names(self, samples):\n",
    "\n",
    "        city_names = []\n",
    "\n",
    "        for i , sample in enumerate(samples):\n",
    "            scene = self.nusc.get('scene', sample['scene_token'])\n",
    "            city_name = self.nusc.get('log', scene['log_token'])['location']\n",
    "            if 'singapore' in city_name:\n",
    "                city_name = 'singapore'\n",
    "            else:\n",
    "                city_name = 'boston'\n",
    "\n",
    "            city_names.append(city_name)\n",
    "\n",
    "        return city_names\n",
    "\n",
    "\n",
    "        \n",
    "    def __len__(self):\n",
    "\n",
    "        return len(self.samples)\n",
    "\n",
    "\n",
    "    def __getitem__(self, idx):\n",
    "   \n",
    "        sample = self.samples[idx]\n",
    "        city_name = self.city_names[idx] \n",
    "        city_token = 0 if city_name == 'boston' else 1\n",
    "\n",
    "        '''\n",
    "        if os.path.exists(cache_path):\n",
    "            data = np.load(cache_path)\n",
    "            map_vis = data['map_rgb']\n",
    "            vehicle_masks = data['vehicle_masks']\n",
    "            \n",
    "            map_vis = torch.from_numpy(map_vis)                 # 3, 400, 400\n",
    "            _, mH, mW = map_vis.shape\n",
    "            vehicle_masks = torch.from_numpy(vehicle_masks)     # 1, Z, X\n",
    "        '''\n",
    "        if True:\n",
    "        #else:\n",
    "            \n",
    "            print('Generating cache for idx:', idx)\n",
    "\n",
    "            # ============= Extract Vehicle Masks ===================\n",
    "    \n",
    "            lrtlist_, boxlist_, vislist_, tidlist_, ptslist_, yawlist_, sizelist_, bbox2dlist_, velocities_, classes_ = self.get_lrtlist(sample)\n",
    "\n",
    "            #np.savez(cache_path, map_rgb=map_vis.numpy(), vehicle_masks=bbox2dlist_.numpy())\n",
    "\n",
    "            points = ptslist_  \n",
    "            heading_angles = yawlist_\n",
    "            speeds = velocities_\n",
    "\n",
    "            vehicles_raster = torch.zeros(2, self.final_dim[0], self.final_dim[1]).to(torch.float64)\n",
    "            for i in range(len(points)):\n",
    "                bbox = points[i].cpu().numpy().astype(np.int32)  \n",
    "                bbox[:,1] = self.final_dim[0] - 1 - bbox[:,1] \n",
    "                poly_mask = np.zeros((self.final_dim[0], self.final_dim[1]), dtype=np.uint8)\n",
    "                cv2.fillPoly(poly_mask, [bbox], 1)\n",
    "\n",
    "                speed = speeds[i]\n",
    "                theta =  angle_diff(heading_angles[i] * np.pi ,  0, 2*np.pi) #(heading_angles[i] * np.pi + np.pi) #/ 2)   # 0, 2*pi\n",
    "                u = torch.cos(torch.tensor(theta)).item()     # between -1 and 1\n",
    "                v = torch.sin(torch.tensor(theta)).item()    # between -1 and 1\n",
    "            \n",
    "                vehicles_raster[0][poly_mask == 1] = u  \n",
    "                vehicles_raster[1][poly_mask == 1] = -v \n",
    "            \n",
    "            color_mask = self.uv_to_color(vehicles_raster)                               # 3, Z, X\n",
    "\n",
    "            # uv_mask --> between 0 and 1     (or -1 to 1)\n",
    "            #vehicles_raster = (vehicles_raster + 1) / 2             # 2, 256, 256\n",
    "\n",
    "            vehicles_raster = vehicles_raster.permute(1,2,0)   # 256, 256, 2\n",
    "\n",
    "            vehicles_vector = torch.zeros(len(bbox2dlist_), bbox2dlist_.shape[1])\n",
    "            vehicles_labels = torch.zeros(len(bbox2dlist_))\n",
    "            vehicles_vector[:len(bbox2dlist_)] = bbox2dlist_\n",
    "            vehicles_labels[:len(bbox2dlist_)] = True\n",
    "\n",
    "            # ================= Extract Lane Masks =============\n",
    "\n",
    "            egopose = self.nusc.get('ego_pose', self.nusc.get('sample_data', sample['data']['LIDAR_TOP'])['ego_pose_token'])\n",
    "            trans = egopose['translation']\n",
    "            rot = egopose['rotation']\n",
    "            sample_token = sample['token']\n",
    "\n",
    "            map_name = self.lane_rasterizer.helper.get_map_name_from_sample_token(sample_token)\n",
    "\n",
    "            x, y = trans[:2]                                                                          # ego trans\n",
    "            yaw = quaternion_yaw(Quaternion(rot)) \n",
    "            patchbox = get_patchbox(x, y, self.image_side_length)\n",
    "            \n",
    "            images = []\n",
    "            \n",
    "            agent_x, agent_y = x, y  \n",
    "            agent_yaw = yaw \n",
    "            radius=64\n",
    "            image_resolution=self.lane_rasterizer.resolution\n",
    "            discretization_resolution_meters=1\n",
    "            map_api=self.lane_rasterizer.maps[map_name]\n",
    "            \n",
    "            agent_pixels = int(self.image_side_length_pixels / 2), int(self.image_side_length_pixels / 2)\n",
    "            base_image = np.zeros((self.image_side_length_pixels, self.image_side_length_pixels, 3))\n",
    "            \n",
    "            lanes = get_lanes_in_radius(agent_x, agent_y, radius, discretization_resolution_meters, map_api)\n",
    "\n",
    "            image = base_image\n",
    "            agent_global_coords = (agent_x, agent_y)\n",
    "            agent_yaw_in_radians = agent_yaw\n",
    "            agent_pixels = agent_pixels\n",
    "            resolution = image_resolution\n",
    "            color_function=color_by_yaw\n",
    "            rotation_mat = get_rotation_matrix(base_image.shape, agent_yaw)\n",
    "            lanes_eliminated = []\n",
    "            mask = np.zeros((self.image_side_length_pixels, self.image_side_length_pixels, 1))\n",
    "            \n",
    "            \n",
    "            num_lines = 50\n",
    "            num_line_poses = 20\n",
    "            lanes_raster = np.zeros((self.image_side_length_pixels, self.image_side_length_pixels, 2))\n",
    "            lanes_in_frame = []\n",
    "\n",
    "            for poses_along_lane in lanes.values():\n",
    "\n",
    "                lanes_eliminated.append([])\n",
    "                \n",
    "                for start_pose, end_pose in zip(poses_along_lane[:-1], poses_along_lane[1:]):\n",
    "            \n",
    "                    start_pixels = convert_to_pixel_coords(start_pose[:2], agent_global_coords, agent_pixels, resolution)\n",
    "                    end_pixels = convert_to_pixel_coords(end_pose[:2], agent_global_coords, agent_pixels, resolution)\n",
    "            \n",
    "                    start_pixels = (start_pixels[1], start_pixels[0])\n",
    "                    end_pixels = (end_pixels[1], end_pixels[0])\n",
    "            \n",
    "                    rotation_mat = get_rotation_matrix(base_image.shape, agent_yaw)\n",
    "                    \n",
    "                    start_array = np.array(start_pixels, dtype=np.float32).reshape(1, 2)\n",
    "                    end_array   = np.array(end_pixels,   dtype=np.float32).reshape(1, 2)\n",
    "                    \n",
    "                    rotated_start = rotate_points_2d(start_array, rotation_mat)[0]\n",
    "                    rotated_end   = rotate_points_2d(end_array,   rotation_mat)[0]\n",
    "                    \n",
    "                    rotated_start = tuple(rotated_start.astype(int))\n",
    "                    rotated_end   = tuple(rotated_end.astype(int))\n",
    "            \n",
    "                    if rotated_start[0] >= self.image_side_length_pixels or rotated_start[0] < 0 or rotated_start[1] >= self.image_side_length_pixels or rotated_start[1] < 0:\n",
    "                        continue\n",
    "                    \n",
    "                    angle = angle_diff(agent_yaw_in_radians,  start_pose[2], 2*np.pi) + np.pi # [-pi, +pi] + pi --> [0, 2*pi]\n",
    "                    u = np.cos(angle)    # -1, 1\n",
    "                    v = np.sin(angle)    # -1, 1\n",
    "                    lanes_raster[rotated_start[1], rotated_start[0]] = np.array([u, v])       # encoding relative orientation\n",
    "            \n",
    "                    lanes_eliminated[-1].append(rotated_start)\n",
    "                    \n",
    "                    #color = color_function(agent_yaw_in_radians, start_pose[2])\n",
    "            \n",
    "                    #cv2.line(image, rotated_start, rotated_end, color, thickness=2)\n",
    "                    \n",
    "                cur_lane = lanes_eliminated[-1]\n",
    "                if len(cur_lane) < 3:\n",
    "                    for pixel in cur_lane: \n",
    "                        lanes_raster[pixel[1], pixel[0]][0] = 0 \n",
    "                        lanes_raster[pixel[1], pixel[0]][1] = 0 \n",
    "                    continue\n",
    "                lanes_in_frame.append(cur_lane)\n",
    "\n",
    "            lanes_raster = torch.from_numpy(lanes_raster)   # 256, 256, 4\n",
    "\n",
    "            lanes_vector = torch.zeros((len(lanes_in_frame), num_line_poses, 2))\n",
    "            lanes_labels = torch.zeros((len(lanes_in_frame)))\n",
    "            for lane_idx, lane in enumerate(lanes_in_frame):\n",
    "                lane_pts_sampled = resample_lane_pts(lane, num_samples=num_line_poses)\n",
    "                lanes_vector[lane_idx] = torch.from_numpy(lane_pts_sampled)\n",
    "\n",
    "            lanes_labels[: len(lanes_in_frame)] = True\n",
    "\n",
    "        raster = torch.zeros(256, 256, 4)\n",
    "        raster[..., :2] = lanes_raster\n",
    "        raster[..., 2:] = vehicles_raster\n",
    "\n",
    "        target = {\n",
    "            'features': raster.permute(2,0,1),                  # Z, X, 4\n",
    "            'city_token': city_token,            # 1\n",
    "            'color_mask' : color_mask,\n",
    "            'targets':{\n",
    "                        'LANES': {\n",
    "                                    'vector': lanes_vector,  # L, 2\n",
    "                                    'mask' : lanes_labels\n",
    "                        },\n",
    "                        'VEHICLES': {\n",
    "                                    'vector': vehicles_vector,  # V, 5\n",
    "                                    'mask' : vehicles_labels\n",
    "                        }\n",
    "            }\n",
    "        }\n",
    "\n",
    "        return  target\n",
    "    \n",
    "\n",
    "    def uv_to_color(self, uv_mask):\n",
    "        u = uv_mask[0]      # Z, X\n",
    "        v = uv_mask[1]      # Z, X\n",
    "\n",
    "        size = u.shape[-1]\n",
    "\n",
    "        angle = (torch.atan2(v, u)) #% (2*np.pi)\n",
    "        hue = ((((angle * 180) ) / (np.pi)) / 180 + 1) / 2 #  + np.pi / 2 + 0.25   #  + np.pi 2 * \n",
    "\n",
    "        color_mask = torch.zeros(3, size, size)\n",
    "\n",
    "        for i in range(size):\n",
    "            for j in range(size):\n",
    "                if u[i,j] == 0 and v[i,j] == 0:\n",
    "                    color_mask[:, i, j] = torch.tensor([1.,1.,1.])\n",
    "                else:\n",
    "                    color = plt.cm.hsv(hue[i, j].item())[:3] \n",
    "                    color_mask[:, i, j] = torch.tensor(color)\n",
    "\n",
    "        return color_mask\n",
    "    \n",
    "\n",
    "    def choose_cams(self):\n",
    "        if self.is_train and self.ncams < len(self.cams):\n",
    "            cams = np.random.choice(self.cams, \n",
    "                                    self.ncams,\n",
    "                                    replace=False)\n",
    "        else:\n",
    "            cams = self.cams\n",
    "        return cams\n",
    "\n",
    "\n",
    "    def choose_ref_cam(self):\n",
    "\n",
    "        if self.is_train and self.do_shuffle_cams:\n",
    "            # randomly sample the ref cam\n",
    "            refcam_id = np.random.randint(1, self.ncams)# len(self.cams))\n",
    "        else:\n",
    "            refcam_id = self.refcam_id\n",
    "\n",
    "        return refcam_id\n",
    "\n",
    "    def sample_augmentation(self):\n",
    "        fH, fW =  self.img_resolution\n",
    "        resize_dims = (fW, fH)\n",
    "        crop_h = 0\n",
    "        crop_w = 0\n",
    "        crop = (crop_w, crop_h, crop_w + fW, crop_h + fH)\n",
    "        return resize_dims, crop\n",
    "\n",
    "\n",
    "    def get_image_data(self, sample, cams):\n",
    "        imgs = []\n",
    "        rots = []\n",
    "        trans = []\n",
    "        intrins = []\n",
    "        for cam in cams:\n",
    "            samp = self.nusc.get('sample_data', sample['data'][cam])\n",
    "\n",
    "            imgname = os.path.join(self.dataroot, samp['filename'])\n",
    "            img = Image.open(imgname)\n",
    "            W, H = img.size\n",
    "\n",
    "            sens = self.nusc.get('calibrated_sensor', samp['calibrated_sensor_token'])\n",
    "            intrin = torch.Tensor(sens['camera_intrinsic'])\n",
    "            rot = torch.Tensor(Quaternion(sens['rotation']).rotation_matrix)\n",
    "            tran = torch.Tensor(sens['translation'])\n",
    "            \n",
    "            # images are not used\n",
    "            resize_dims, crop = self.sample_augmentation()\n",
    "\n",
    "            sx = resize_dims[0]/float(W)\n",
    "            sy = resize_dims[1]/float(H)\n",
    "\n",
    "            intrin = geom.scale_intrinsics(intrin.unsqueeze(0), sx, sy).squeeze(0)\n",
    "\n",
    "            fx, fy, x0, y0 = geom.split_intrinsics(intrin.unsqueeze(0))\n",
    "\n",
    "            new_x0 = x0 - crop[0]\n",
    "            new_y0 = y0 - crop[1]\n",
    "\n",
    "            pix_T_cam = geom.merge_intrinsics(fx, fy, new_x0, new_y0)\n",
    "            intrin = pix_T_cam.squeeze(0)\n",
    "\n",
    "            img = img_transform(img, resize_dims, crop)\n",
    "            imgs.append(totorch_img(img))\n",
    "\n",
    "            intrins.append(intrin)\n",
    "            rots.append(rot)\n",
    "            trans.append(tran)\n",
    "\n",
    "            \n",
    "        return (torch.stack(imgs), torch.stack(rots), torch.stack(trans),torch.stack(intrins))\n",
    "\n",
    "\n",
    "    def get_lrtlist(self, rec):\n",
    "        egopose = self.nusc.get('ego_pose', self.nusc.get('sample_data', rec['data']['LIDAR_TOP'])['ego_pose_token'])\n",
    "        # to ego-frame\n",
    "        trans = -np.array(egopose['translation'])\n",
    "        rot = Quaternion(egopose['rotation']).inverse\n",
    "        #print('EGO ', trans, 'rot' , egopose['rotation'])\n",
    "        # in degrees\n",
    "        ego_yaw_trans = Quaternion(egopose['rotation']).inverse.yaw_pitch_roll[0] * 180 / np.pi  \n",
    "        \n",
    "        lrtlist = []\n",
    "        boxlist = []\n",
    "        vislist = []\n",
    "        tidlist = []\n",
    "        ptslist = []\n",
    "        yawlist = []\n",
    "        sizelist = []\n",
    "        bbox2dlist = []\n",
    "        velocities = []\n",
    "        classes = []\n",
    "        for tok in rec['anns']:\n",
    "            \n",
    "            inst = self.nusc.get('sample_annotation', tok)\n",
    "            # NuScenes filter\n",
    "            if ('vehicle' not in inst['category_name']): # or ('cycle' in inst['category_name']):\n",
    "                continue\n",
    "            \n",
    "            if int(inst['visibility_token']) == 1:\n",
    "                continue\n",
    "\n",
    "            box = Box(inst['translation'], inst['size'], Quaternion(inst['rotation']))\n",
    "            box.translate(trans)\n",
    "            box.rotate(rot)\n",
    "            \n",
    "            pts = box.bottom_corners()[:2].T    # Bottom corners. First two face forward, last two face backwards.\n",
    "            pts = np.round((pts - self.bx[:2] + self.dx[:2]/2.) / self.dx[:2]).astype(np.int32)\n",
    "            \n",
    "            pts[:, [1, 0]] = pts[:, [0, 1]]   # 4, 2 - switch x, y\n",
    "            pts[:, 0] = self.X - 1 - pts[:, 0]       # horizontal flip\n",
    "            \n",
    "            if np.any(pts < 0) or np.any(pts > self.X):\n",
    "                continue\n",
    "            \n",
    "            # NOTE: invisibility not important for DETR\n",
    "            vislist.append(torch.tensor(1.0)) # visible\n",
    "            \n",
    "            center_pt = np.mean(pts,axis=0)  # 2\n",
    "            \n",
    "            ptslist.append(torch.from_numpy(pts))          \n",
    "\n",
    "            r = box.rotation_matrix\n",
    "            t = box.center\n",
    "            l = box.wlh\n",
    "            l = np.stack([l[1],l[0],l[2]])\n",
    "            lrt = py.merge_lrt(l, py.merge_rt(r,t))\n",
    "            lrt = torch.Tensor(lrt)\n",
    "            lrtlist.append(lrt)\n",
    "            ry, _, _ = Quaternion(inst['rotation']).yaw_pitch_roll\n",
    "            rs = np.stack([ry*0, ry, ry*0])\n",
    "            box_ = torch.from_numpy(np.stack([t,l,rs])).reshape(9)\n",
    "            boxlist.append(box_)\n",
    "            \n",
    "            yaw = (180 / np.pi * box_[7] + ego_yaw_trans) # + rotate_angle)   # yaw in degrees\n",
    "            if yaw < -180.0:\n",
    "                yaw += 360\n",
    "            elif yaw > 180.0:\n",
    "                yaw -= 360\n",
    "            yaw = yaw / 180.0  # normalized [-1, +1]. -1 --> front-right-back, +1 --> front-left-back\n",
    "            assert -1 <= yaw <= 1, f'Invalid yaw: {yaw}'\n",
    "\n",
    "            yawlist.append(yaw)\n",
    "            \n",
    "            size = torch.clamp(box_[3:6], min = 0, max = 10.0) / 10.0  # l, w, h\n",
    "\n",
    "            velocity = self.nusc.box_velocity(tok)   # (vx ?, vy ?, vz)\n",
    "            velocities.append(torch.Tensor([np.sqrt(velocity[0]**2 + velocity[1]**2)]))\n",
    "\n",
    "            vehicle_class = inst['category_name'].split('.')[-1]\n",
    "            class_idx = self.vehicle_classes.index(vehicle_class)\n",
    "            classes.append(torch.Tensor([class_idx]))\n",
    "            # NOTE: for now class_idx is 0.\n",
    "            class_idx = 0\n",
    "            \n",
    "            bbox2d = torch.tensor([center_pt[0],center_pt[1],yaw,size[0],size[1]], dtype = torch.float32)\n",
    "            bbox2dlist.append(bbox2d)\n",
    "\n",
    "            \n",
    "        if len(ptslist):\n",
    "            vislist = torch.stack(vislist, dim=0)\n",
    "            ptslist = torch.stack(ptslist, dim=0)\n",
    "            yawlist = torch.stack(yawlist, dim=0)\n",
    "            velocities = torch.stack(velocities, dim=0)\n",
    "            classes = torch.stack(classes, dim=0)\n",
    "            # sizelist = torch.stack(sizelist, dim=0)\n",
    "            bbox2dlist = torch.stack(bbox2dlist, dim=0)\n",
    "            # tidlist = torch.stack(tidlist, dim=0)\n",
    "        else:\n",
    "            lrtlist = torch.zeros((0, 19))\n",
    "            boxlist = torch.zeros((0, 9))\n",
    "            vislist = torch.zeros((0))\n",
    "            ptslist = torch.zeros((0, 4, 2))\n",
    "            yawlist = torch.zeros((0))\n",
    "            sizelist = torch.zeros((0, 2))\n",
    "            bbox2dlist = torch.zeros((0, 5))\n",
    "            velocities =  torch.zeros((0))\n",
    "            classes =  torch.zeros((0))\n",
    "            # tidlist = torch.zeros((0))\n",
    "\n",
    "        return lrtlist, boxlist, vislist, tidlist, ptslist, yawlist, sizelist, bbox2dlist, velocities, classes\n",
    "    \n",
    "\n",
    "    \n",
    "    def get_seg_bev(self, pts_list):\n",
    "        \n",
    "        N = pts_list.shape[0]\n",
    "        vehicle_masks = np.zeros((N, self.X,  self.Z))\n",
    "        \n",
    "        for n in range(N):\n",
    "            pts = pts_list[n].detach().numpy() # 4, 2\n",
    "            cv2.fillPoly(vehicle_masks[n], [pts.astype(np.int32)], n + 1.0)\n",
    "\n",
    "\n",
    "        seg = torch.Tensor(vehicle_masks)   # N, Z, X \n",
    "\n",
    "        return seg\n",
    "\n",
    "\n",
    "\n",
    "\n",
    "\n",
    "class NuScenesDatasetWrapper:\n",
    "    '''\n",
    "        Initialize training and validation datasets.\n",
    "    '''\n",
    "    def __init__(self, args, nusc=None):\n",
    "        self.args = args\n",
    "\n",
    "        print('Loading NuScenes version', args.version, 'from', args.dataset_path)\n",
    "\n",
    "        if nusc is None:\n",
    "            print('Load it from scratch')\n",
    "            self.nusc = NuScenes(\n",
    "                        version='v1.0-{}'.format(args.version),\n",
    "                        dataroot=args.dataset_path, \n",
    "                        verbose=True\n",
    "                        )\n",
    "        else:\n",
    "           self.nusc = nusc\n",
    "        print('Done loading NuScenes version', args.version)\n",
    "\n",
    "    \n",
    "    def train(self):\n",
    "        self.args.is_train = True\n",
    "        return NuscenesDataset(self.args, self.nusc)\n",
    "    \n",
    "    def val(self):\n",
    "        self.args.is_train = False\n",
    "        return NuscenesDataset(self.args, self.nusc)\n",
    "    \n",
    "\n",
    "class Args:\n",
    "    def __init__(self):\n",
    "        # Basic settings\n",
    "        self.is_train = True\n",
    "        self.rand_crop_and_resize = True\n",
    "\n",
    "        # Resolution / dimensions\n",
    "        self.bev_resolution = (256, 256)    # final BEV resolution (X, Z)\n",
    "        self.img_resolution = (900, 1600)   # input image resolution\n",
    "        self.H = 900\n",
    "        self.W = 1600\n",
    "\n",
    "        # Cameras and bounds\n",
    "        self.cams = [\n",
    "            \"CAM_FRONT\",\n",
    "            \"CAM_FRONT_RIGHT\",\n",
    "            \"CAM_BACK_RIGHT\",\n",
    "            \"CAM_BACK\",\n",
    "            \"CAM_BACK_LEFT\",\n",
    "            \"CAM_FRONT_LEFT\",\n",
    "        ]\n",
    "        self.ncams = 6\n",
    "        self.do_shuffle_cams = False\n",
    "        self.refcam_id = 0\n",
    "        self.bounds = [-64, 64, -5, 5, -64, 64]\n",
    "\n",
    "        # Dataset information\n",
    "        self.version = \"trainval\"\n",
    "        self.dataset_path = \"/datasets/nuscenes\"\n",
    "\n",
    "        # Derived attributes or placeholders (optional)\n",
    "        self.X, self.Y, self.Z = (self.bev_resolution[0], 8, self.bev_resolution[1])\n",
    "        self.split = \"train\" if self.is_train else \"val\"\n",
    "\n",
    "        self.config = './configs/base.yaml'\n",
    "\n",
    "args = Args()"
   ]
  },
  {
   "cell_type": "code",
   "execution_count": 4,
   "id": "633f4927-3bff-45cc-8d15-bfca99d5b0c0",
   "metadata": {},
   "outputs": [
    {
     "name": "stdout",
     "output_type": "stream",
     "text": [
      "======\n",
      "Loading NuScenes tables for version v1.0-trainval...\n",
      "23 category,\n",
      "8 attribute,\n",
      "4 visibility,\n",
      "64386 instance,\n",
      "12 sensor,\n",
      "10200 calibrated_sensor,\n",
      "2631083 ego_pose,\n",
      "68 log,\n",
      "850 scene,\n",
      "34149 sample,\n",
      "2631083 sample_data,\n",
      "1166187 sample_annotation,\n",
      "4 map,\n",
      "Done loading in 47.748 seconds.\n",
      "======\n",
      "Reverse indexing ...\n",
      "Done reverse indexing in 5.4 seconds.\n",
      "======\n"
     ]
    }
   ],
   "source": [
    "nusc = NuScenes(\n",
    "                        version='v1.0-{}'.format(args.version),\n",
    "                        dataroot=args.dataset_path, \n",
    "                        verbose=True\n",
    "                        )"
   ]
  },
  {
   "cell_type": "code",
   "execution_count": 5,
   "id": "872bbf9a-9581-428b-b7f6-ed060a97833c",
   "metadata": {},
   "outputs": [
    {
     "name": "stdout",
     "output_type": "stream",
     "text": [
      "Loading NuScenes version trainval from /datasets/nuscenes\n",
      "Done loading NuScenes version trainval\n"
     ]
    }
   ],
   "source": [
    "n = NuScenesDatasetWrapper(args, nusc)\n",
    "trainset = n.train()"
   ]
  },
  {
   "cell_type": "code",
   "execution_count": 13,
   "id": "1ded881c-e984-4b54-9104-a30577c4ed99",
   "metadata": {},
   "outputs": [],
   "source": [
    "valset = n.val()"
   ]
  },
  {
   "cell_type": "code",
   "execution_count": 6,
   "id": "7fea6576-ea26-434c-9c3b-4147453a3c07",
   "metadata": {},
   "outputs": [
    {
     "name": "stdout",
     "output_type": "stream",
     "text": [
      "Generating cache for idx: 0\n"
     ]
    },
    {
     "name": "stderr",
     "output_type": "stream",
     "text": [
      "/scratch/tmp/ipykernel_358600/2601108926.py:342: UserWarning: To copy construct from a tensor, it is recommended to use sourceTensor.clone().detach() or sourceTensor.clone().detach().requires_grad_(True), rather than torch.tensor(sourceTensor).\n",
      "  u = torch.cos(torch.tensor(theta)).item()     # between -1 and 1\n",
      "/scratch/tmp/ipykernel_358600/2601108926.py:343: UserWarning: To copy construct from a tensor, it is recommended to use sourceTensor.clone().detach() or sourceTensor.clone().detach().requires_grad_(True), rather than torch.tensor(sourceTensor).\n",
      "  v = torch.sin(torch.tensor(theta)).item()    # between -1 and 1\n"
     ]
    }
   ],
   "source": [
    "out = trainset[0]"
   ]
  },
  {
   "cell_type": "code",
   "execution_count": 8,
   "id": "cab4bd0b-81d1-4f2a-acac-1a84c901583c",
   "metadata": {},
   "outputs": [],
   "source": [
    "import yaml\n",
    "from types import SimpleNamespace\n",
    "from read_args import set_args\n",
    "\n",
    "with open(args.config, 'r') as config_file:\n",
    "    cfg = yaml.safe_load(config_file)\n",
    "\n",
    "cfg = SimpleNamespace(**cfg)\n",
    "cfg = set_args(cfg)\n",
    "\n",
    "for key, value in vars(cfg).items():\n",
    "    setattr(args, key, value)"
   ]
  },
  {
   "cell_type": "code",
   "execution_count": 7,
   "id": "a1fc0114-8802-4373-b7ac-add89f888d4e",
   "metadata": {},
   "outputs": [],
   "source": [
    "from models.model import RVAEModel\n",
    "model = RVAEModel(cfg).cuda()"
   ]
  },
  {
   "cell_type": "code",
   "execution_count": 9,
   "id": "eb945837-be02-4507-8862-79c8a6e0f4f5",
   "metadata": {},
   "outputs": [],
   "source": [
    "features = out['features'].unsqueeze(0)\n",
    "targets = out['targets']\n",
    "for tgt_type in ['VEHICLES', 'LANES']:\n",
    "    for k in ['vector', 'mask']:  \n",
    "        targets[tgt_type][k] = targets[tgt_type][k].clone().unsqueeze(0).cuda()  # targets[tgt_type][k] = "
   ]
  },
  {
   "cell_type": "code",
   "execution_count": 9,
   "id": "ed851c05-2389-4379-a648-c9e26bf705c2",
   "metadata": {},
   "outputs": [
    {
     "data": {
      "text/plain": [
       "torch.Size([1, 15, 5])"
      ]
     },
     "execution_count": 9,
     "metadata": {},
     "output_type": "execute_result"
    }
   ],
   "source": [
    "targets['VEHICLES']['vector'].shape"
   ]
  },
  {
   "cell_type": "code",
   "execution_count": 10,
   "id": "ab45bdce-3fb4-4d8c-8e6d-b7fdc0e519a1",
   "metadata": {},
   "outputs": [],
   "source": [
    "predictions = model(features.cuda())"
   ]
  },
  {
   "cell_type": "code",
   "execution_count": 11,
   "id": "4ea18eaf-5f4c-4d46-a17b-5e5e642685a4",
   "metadata": {},
   "outputs": [],
   "source": [
    "from models.matching import RVAEHungarianMatching\n",
    "matcher = RVAEHungarianMatching(cfg)"
   ]
  },
  {
   "cell_type": "code",
   "execution_count": 17,
   "id": "adb134ee-7cce-42bc-a8f8-3d06fe890ed4",
   "metadata": {},
   "outputs": [],
   "source": [
    "#matchings_dict = {}\n",
    "#tgt_types = [ 'LANES', 'VEHICLES',]\n",
    "#for tgt_type in tgt_types:\n",
    "#    matchings_dict.update(matcher.compute(predictions, targets, tgt_type))"
   ]
  },
  {
   "cell_type": "code",
   "execution_count": null,
   "id": "4bc21038-74ca-48ad-a031-d2df3414531a",
   "metadata": {},
   "outputs": [],
   "source": [
    "from models.objective import RVAEHungarianObjective\n",
    "objective = RVAEHungarianObjective(cfg)"
   ]
  },
  {
   "cell_type": "code",
   "execution_count": null,
   "id": "c20be6c2-4eed-4a97-a2d6-70f927e4059d",
   "metadata": {},
   "outputs": [],
   "source": [
    "objectives_dict = {}\n",
    "tgt_types = [ 'LANES', 'VEHICLES',]\n",
    "for tgt_type in tgt_types:\n",
    "    objectives_dict.update(objective.compute(predictions, targets, matchings_dict, tgt_type))"
   ]
  },
  {
   "cell_type": "code",
   "execution_count": 24,
   "id": "d4241f8b-168d-410a-9f3c-3f9c85f6a711",
   "metadata": {},
   "outputs": [
    {
     "name": "stdout",
     "output_type": "stream",
     "text": [
      "Loading NuScenes version trainval from /datasets/nuscenes\n",
      "Load it from scratch\n",
      "======\n",
      "Loading NuScenes tables for version v1.0-trainval...\n",
      "23 category,\n",
      "8 attribute,\n",
      "4 visibility,\n",
      "64386 instance,\n",
      "12 sensor,\n",
      "10200 calibrated_sensor,\n",
      "2631083 ego_pose,\n",
      "68 log,\n",
      "850 scene,\n",
      "34149 sample,\n",
      "2631083 sample_data,\n",
      "1166187 sample_annotation,\n",
      "4 map,\n",
      "Done loading in 22.502 seconds.\n",
      "======\n",
      "Reverse indexing ...\n",
      "Done reverse indexing in 5.8 seconds.\n",
      "======\n",
      "Done loading NuScenes version trainval\n"
     ]
    }
   ],
   "source": [
    "from dataset import NuScenesDatasetWrapper\n",
    "datamodule = NuScenesDatasetWrapper(cfg)\n",
    "trainset = datamodule.train()\n",
    "valset = datamodule.val()"
   ]
  },
  {
   "cell_type": "code",
   "execution_count": 34,
   "id": "47a473e4-381e-42ae-a677-67419f8357ac",
   "metadata": {},
   "outputs": [],
   "source": [
    "from utils import rvae_collate_fn\n",
    "train_dataloader = torch.utils.data.DataLoader(\n",
    "        trainset,\n",
    "        batch_size=1,\n",
    "        num_workers=6,\n",
    "        drop_last=True,\n",
    "        pin_memory=False,\n",
    "        shuffle=False,\n",
    "        collate_fn=rvae_collate_fn\n",
    "    )\n",
    "val_dataloader = torch.utils.data.DataLoader(\n",
    "        valset,\n",
    "        batch_size=2,\n",
    "        num_workers=6,\n",
    "        drop_last=True,\n",
    "        pin_memory=False,\n",
    "        shuffle=False,\n",
    "        collate_fn=rvae_collate_fn\n",
    "    )"
   ]
  },
  {
   "cell_type": "code",
   "execution_count": 35,
   "id": "910ef67e-92e9-4045-b111-86c3004a13d1",
   "metadata": {},
   "outputs": [],
   "source": [
    "for batch in val_dataloader:\n",
    "    break"
   ]
  },
  {
   "cell_type": "code",
   "execution_count": 17,
   "id": "eb79d766-6957-4b71-88bd-e7abcbbce876",
   "metadata": {
    "scrolled": true
   },
   "outputs": [],
   "source": [
    "import torch\n",
    "from collections import OrderedDict\n",
    "\n",
    "checkpoint = torch.load(\"checkpoints/[256, 256]_lr0.0001_bs256_steps43k_line5.0_box15.0_linece2.0_boxce2.0angle4.0_vehicledrop0.3_3d_classes/0.pt\")\n",
    "state_dict = checkpoint[\"model\"]\n",
    "\n",
    "new_state_dict = OrderedDict()\n",
    "for k, v in state_dict.items():\n",
    "    if k.startswith(\"module.\"):\n",
    "        new_key = k[len(\"module.\"):]\n",
    "    else:\n",
    "        new_key = k\n",
    "    new_state_dict[new_key] = v\n",
    "\n",
    "checkpoint[\"model\"] = new_state_dict"
   ]
  },
  {
   "cell_type": "code",
   "execution_count": 18,
   "id": "c24e89ae-a3ec-49e1-8bb9-745a2492c194",
   "metadata": {},
   "outputs": [
    {
     "data": {
      "text/plain": [
       "<All keys matched successfully>"
      ]
     },
     "execution_count": 18,
     "metadata": {},
     "output_type": "execute_result"
    }
   ],
   "source": [
    "from models.wrapper import RVAEWrapper\n",
    "model = RVAEWrapper(args).cuda().eval()\n",
    "model.load_state_dict(new_state_dict)"
   ]
  },
  {
   "cell_type": "code",
   "execution_count": 38,
   "id": "ab26f3a5-8b15-4a1a-86f7-b1277be12b7f",
   "metadata": {},
   "outputs": [],
   "source": [
    "'''\n",
    "batch = valset[1000]\n",
    "'''\n",
    "batch['features'] = batch['features'].cuda()\n",
    "for tgt_type in ['VEHICLES', 'LANES']:\n",
    "    for k in ['vector', 'mask']:  \n",
    "        batch['targets'][tgt_type][k] = batch['targets'][tgt_type][k].clone().cuda()           # .unsqueeze(0)\n",
    "batch['targets']['VEHICLES']['class'] = batch['targets']['VEHICLES']['class'].clone().cuda()   # .unsqueeze(0)"
   ]
  },
  {
   "cell_type": "code",
   "execution_count": 51,
   "id": "4fc060c1-6f2e-4399-98c3-8ba292c32e52",
   "metadata": {},
   "outputs": [],
   "source": [
    "model.eval()\n",
    "with torch.no_grad():\n",
    "    out = model(batch)"
   ]
  },
  {
   "cell_type": "code",
   "execution_count": 71,
   "id": "e2df6151-ef5d-45f3-b20d-040c3cf41fa6",
   "metadata": {},
   "outputs": [],
   "source": [
    "gt_mask = batch['targets']['VEHICLES']['mask']\n",
    "vehicle_indices = [torch.nonzero(gt_mask[b], as_tuple=True)[0] for b in range(gt_mask.shape[0])]"
   ]
  },
  {
   "cell_type": "code",
   "execution_count": 74,
   "id": "274bf48e-2462-42ce-8116-67014bd8fed6",
   "metadata": {},
   "outputs": [
    {
     "data": {
      "text/plain": [
       "[tensor([ 0,  1,  2,  3,  4,  5,  6,  7,  8,  9, 10, 11, 12], device='cuda:0'),\n",
       " tensor([ 0,  1,  2,  3,  4,  5,  6,  7,  8,  9, 10, 11, 12, 13],\n",
       "        device='cuda:0')]"
      ]
     },
     "execution_count": 74,
     "metadata": {},
     "output_type": "execute_result"
    }
   ],
   "source": [
    "vehicle_indices"
   ]
  },
  {
   "cell_type": "code",
   "execution_count": 55,
   "id": "ca8028ac-0c6f-4655-a691-e8ee7fb8a1ea",
   "metadata": {},
   "outputs": [
    {
     "data": {
      "text/plain": [
       "torch.Size([2, 50, 512])"
      ]
     },
     "execution_count": 55,
     "metadata": {},
     "output_type": "execute_result"
    }
   ],
   "source": [
    "out['vector']['hs_vehicle'].shape   #['VEHICLES']['vector'].shape"
   ]
  },
  {
   "cell_type": "code",
   "execution_count": 90,
   "id": "d0e42335-4ed8-4e34-9d27-db9538e14320",
   "metadata": {},
   "outputs": [],
   "source": [
    "#out['vector']['VEHICLES']['mask'].shape\n",
    "probs = torch.softmax(out['vector']['VEHICLES']['mask'], dim=-1)\n",
    "pred_classes = torch.argmax(probs, dim=-1)\n",
    "mask = (pred_classes != 0)"
   ]
  },
  {
   "cell_type": "code",
   "execution_count": 83,
   "id": "d4952602-89c4-4338-b7c5-70ff992b0541",
   "metadata": {},
   "outputs": [
    {
     "name": "stdout",
     "output_type": "stream",
     "text": [
      "vehicle queries torch.Size([2, 50, 512])\n",
      "tensor([ 0,  1,  2,  3,  4,  5,  6,  7,  8,  9, 10, 11, 12]) tensor([17, 18, 28, 19, 30, 31, 32, 33, 12, 35, 36, 37, 25,  9,  2, 15, 42, 16,\n",
      "        11, 45, 46,  4, 13, 49, 43, 47, 14, 20,  5, 38, 23, 26,  3, 10, 24, 39,\n",
      "         6,  8, 34, 48, 41,  7, 29, 27, 21,  1, 40,  0, 44, 22])\n",
      "tensor([ 0,  1,  2,  3,  4,  5,  6,  7,  8,  9, 10, 11, 12, 13]) tensor([17, 27, 28, 29, 30, 31, 32, 33, 21,  2, 36, 22,  5, 39,  3, 15, 23, 16,\n",
      "         6, 20, 14, 47, 48, 49, 26, 44,  4, 10, 18, 38, 11,  7, 12, 35, 43, 19,\n",
      "        34,  0, 40, 46,  9, 41, 25, 42,  1, 13, 24,  8, 45, 37])\n"
     ]
    }
   ],
   "source": [
    "gt_mask = batch['targets']['VEHICLES']['mask']\n",
    "vehicle_indices = [torch.nonzero(gt_mask[b], as_tuple=True)[0] for b in range(gt_mask.shape[0])]\n",
    "vehicle_queries = torch.zeros_like(out['vector']['hs_vehicle']).cuda()\n",
    "vehicle_masks = torch.zeros_like(gt_mask)\n",
    "print(\"vehicle queries\", vehicle_queries.shape)\n",
    "for b in range(len(gt_mask)):\n",
    "    cur_vehicle_indices = vehicle_indices[b].detach().cpu()\n",
    "    cur_lanes_matching = out['lanes_matching'][b][1]             # len(matching) = B\n",
    "    print(cur_vehicle_indices, cur_lanes_matching)\n",
    "\n",
    "    mask = torch.isin(cur_lanes_matching, cur_vehicle_indices) \n",
    "    matched_indices = torch.nonzero(mask, as_tuple=True)[0] \n",
    "    matched_indices = out['lanes_matching'][b][0][matched_indices]\n",
    "    vehicle_queries[b][:len(matched_indices)] = out['vector']['hs_vehicle'][b][matched_indices]\n",
    "    vehicle_masks[b][::len(matched_indices)] = 1.0"
   ]
  },
  {
   "cell_type": "code",
   "execution_count": 94,
   "id": "486635cb-ab26-44a4-b8ff-5423811a3926",
   "metadata": {},
   "outputs": [
    {
     "data": {
      "text/plain": [
       "torch.Size([2, 50])"
      ]
     },
     "execution_count": 94,
     "metadata": {},
     "output_type": "execute_result"
    }
   ],
   "source": [
    "gt_mask.shape"
   ]
  },
  {
   "cell_type": "code",
   "execution_count": 473,
   "id": "2fa24e33-3b62-443e-91fe-574452b7e6e7",
   "metadata": {},
   "outputs": [],
   "source": [
    "lane_gts = batch['targets']['LANES']['vector'].unsqueeze(0) #[0]\n",
    "lane_classes = batch['targets']['LANES']['mask'].unsqueeze(0) # [0]\n",
    "vehicle_gts = batch['targets']['VEHICLES']['vector'].unsqueeze(0) #[0]\n",
    "vehicle_classes = batch['targets']['VEHICLES']['mask'].unsqueeze(0) #[0]"
   ]
  },
  {
   "cell_type": "code",
   "execution_count": 25,
   "id": "36268f69-84aa-4367-8095-034252221bb7",
   "metadata": {},
   "outputs": [],
   "source": [
    "def uv_to_color(uv_mask):\n",
    "    u = uv_mask[0]      # Z, X\n",
    "    v = uv_mask[1]      # Z, X\n",
    "\n",
    "    size = u.shape[-1]\n",
    "\n",
    "    angle = (torch.atan2(v, u)) #% (2*np.pi)\n",
    "    hue = ((((angle * 180) ) / (np.pi)) / 180 + 1) / 2 #  + np.pi / 2 + 0.25   #  + np.pi 2 * \n",
    "\n",
    "    color_mask = torch.zeros(3, size, size)\n",
    "\n",
    "    for i in range(size):\n",
    "        for j in range(size):\n",
    "            if u[i,j] == 0 and v[i,j] == 0:\n",
    "                color_mask[:, i, j] = torch.tensor([1.,1.,1.])\n",
    "            else:\n",
    "                color = plt.cm.hsv(hue[i, j].item())[:3] \n",
    "                color_mask[:, i, j] = torch.tensor(color)\n",
    "\n",
    "    return color_mask"
   ]
  },
  {
   "cell_type": "code",
   "execution_count": 64,
   "id": "430b0985-5e59-40b3-9208-92a117b779fd",
   "metadata": {},
   "outputs": [
    {
     "data": {
      "text/plain": [
       "tensor([1.7409e-08, 2.2215e-09, 9.9989e-01, 2.2542e-07, 4.3758e-09, 9.9995e-01,\n",
       "        2.6110e-09, 2.7863e-09, 1.0000e+00, 1.0000e+00, 1.5178e-05, 1.0000e+00,\n",
       "        1.6742e-07, 1.0000e+00, 1.0000e+00, 5.7099e-09, 1.6394e-06, 1.9824e-08,\n",
       "        3.9086e-07, 9.9997e-01, 3.5087e-01, 4.0092e-09, 2.4024e-07, 1.2921e-07,\n",
       "        1.0000e+00, 1.0000e+00, 1.0000e+00, 9.9999e-01, 1.0000e+00, 3.5192e-07,\n",
       "        4.1847e-09, 2.8433e-09, 5.3349e-04, 7.8392e-03, 1.0000e+00, 1.0000e+00,\n",
       "        1.0000e+00, 1.5490e-09, 3.3331e-08, 1.0000e+00, 1.0000e+00, 9.9999e-01,\n",
       "        1.0000e+00, 9.9998e-01, 1.6196e-08, 3.9971e-08, 1.8508e-02, 1.0000e+00,\n",
       "        1.0000e+00, 1.0000e+00], device='cuda:0')"
      ]
     },
     "execution_count": 64,
     "metadata": {},
     "output_type": "execute_result"
    }
   ],
   "source": [
    "torch.sigmoid(out['vector']['LANES']['mask'][0])"
   ]
  },
  {
   "cell_type": "code",
   "execution_count": 88,
   "id": "2076557b-82ed-4db0-b0b9-c9808f20747a",
   "metadata": {},
   "outputs": [
    {
     "data": {
      "text/plain": [
       "<matplotlib.image.AxesImage at 0x14eab075c2d0>"
      ]
     },
     "execution_count": 88,
     "metadata": {},
     "output_type": "execute_result"
    },
    {
     "data": {
      "image/png": "[encoded data removed]",
      "text/plain": [
       "<Figure size 640x480 with 1 Axes>"
      ]
     },
     "metadata": {},
     "output_type": "display_data"
    }
   ],
   "source": [
    "model.eval()\n",
    "with torch.no_grad():\n",
    "    out = model(batch)\n",
    "vehicle_pred_vectors = out['vector']['VEHICLES']['vector'][0]\n",
    "vehicle_pred_classes = out['vector']['VEHICLES']['mask'][0]\n",
    "\n",
    "points_list = []\n",
    "yaws = []\n",
    "\n",
    "img_h, img_w = 256, 256\n",
    "\n",
    "mask = torch.sigmoid(vehicle_pred_classes) > 0.03\n",
    "vehicle_pred_vectors = vehicle_pred_vectors[mask]\n",
    "for idx in range(vehicle_pred_vectors.shape[0]):\n",
    "    vehicle_pred = vehicle_pred_vectors[idx].detach().cpu()\n",
    "    center_x, center_y = ((vehicle_pred[:2]) * 0.5 + 0.5)  * 256.0 + 0.5\n",
    "\n",
    "    if center_x == 128.5 and center_y == 128.5:\n",
    "        continue\n",
    "\n",
    "    width, length = (vehicle_pred[-2:] * 0.5 + 0.5)\n",
    "    yaw = vehicle_pred[2] * np.pi\n",
    "\n",
    "    yaws.append(yaw)\n",
    "\n",
    "    if center_x < 0 or center_x >= img_h or center_y < 0 or center_y >= img_w:\n",
    "       continue \n",
    "    \n",
    "    width = width * 15 \n",
    "    length = length * 15 \n",
    "    pixel_width = (width) / 0.5\n",
    "    pixel_length = (length) / 0.5\n",
    "    half_width = pixel_width / 2\n",
    "    half_length = pixel_length / 2\n",
    "\n",
    "    top_left = (center_x - half_width, center_y - half_length)\n",
    "    top_right = (center_x + half_width, center_y - half_length)\n",
    "    bottom_left = (center_x - half_width, center_y + half_length)\n",
    "    bottom_right = (center_x + half_width, center_y + half_length)\n",
    "\n",
    "    points = np.array([top_left, top_right, bottom_right, bottom_left])\n",
    "\n",
    "    angle_rad = yaw + np.pi / 2\n",
    "    rotation_matrix = np.array([\n",
    "        [np.cos(angle_rad), -np.sin(angle_rad)],\n",
    "        [np.sin(angle_rad), np.cos(angle_rad)]\n",
    "    ])\n",
    "\n",
    "    rotated_points = np.dot(points - [center_x, center_y], rotation_matrix.T) + [center_x, center_y]\n",
    "    rotated_points = rotated_points.astype(np.int32).reshape((-1, 2))\n",
    "    \n",
    "    points_list.append(rotated_points)\n",
    "\n",
    "\n",
    "vehicles_raster = torch.zeros(2, 256, 256).to(torch.float64)\n",
    "for i in range(len(points_list)):\n",
    "    bbox = points_list[i] \n",
    "    bbox[:,1] = img_h - 1 - bbox[:,1] \n",
    "    poly_mask = np.zeros((img_h, img_w), dtype=np.uint8)\n",
    "    cv2.fillPoly(poly_mask, [bbox], 1)\n",
    "\n",
    "    theta =  angle_diff(yaws[i],  0, 2*np.pi) #(heading_angles[i] * np.pi + np.pi) #/ 2)   # 0, 2*pi\n",
    "    u = torch.cos(theta.clone()).item()     # between -1 and 1\n",
    "    v = torch.sin(theta.clone()).item()     # between -1 and 1\n",
    "\n",
    "    vehicles_raster[0][poly_mask == 1] = u  \n",
    "    vehicles_raster[1][poly_mask == 1] = -v \n",
    "\n",
    "color_mask = uv_to_color(vehicles_raster)      \n",
    "#print(color_mask)\n",
    "plt.imshow(color_mask.permute(1,2,0))"
   ]
  },
  {
   "cell_type": "code",
   "execution_count": 89,
   "id": "25b0e4b2-5687-473e-8545-50ad97a88f59",
   "metadata": {},
   "outputs": [
    {
     "data": {
      "image/png": "[encoded data removed]",
      "text/plain": [
       "<Figure size 640x480 with 1 Axes>"
      ]
     },
     "metadata": {},
     "output_type": "display_data"
    }
   ],
   "source": [
    "plt.imshow(((1 - 0.2)*color_mask.permute(1,2,0) + 0.2*batch['color_mask'].permute(1,2,0).numpy()))\n",
    "#plt.imshow(batch['color_mask'].permute(1,2,0).numpy())\n",
    "plt.show()"
   ]
  },
  {
   "cell_type": "code",
   "execution_count": 486,
   "id": "64aa3461-2521-4a7b-9d60-310c76492992",
   "metadata": {},
   "outputs": [
    {
     "data": {
      "image/png": "[encoded data removed]",
      "text/plain": [
       "<Figure size 640x480 with 1 Axes>"
      ]
     },
     "metadata": {},
     "output_type": "display_data"
    }
   ],
   "source": [
    "plt.imshow(new_image.astype('uint8')) \n",
    "plt.imshow(image.astype('uint8'), alpha=0.2)                \n",
    "plt.show()"
   ]
  },
  {
   "cell_type": "code",
   "execution_count": 69,
   "id": "937717ba-b842-4509-bcfa-d4c33246a7e8",
   "metadata": {},
   "outputs": [
    {
     "data": {
      "text/plain": [
       "tensor([1.7409e-08, 2.2215e-09, 9.9989e-01, 2.2542e-07, 4.3758e-09, 9.9995e-01,\n",
       "        2.6110e-09, 2.7863e-09, 1.0000e+00, 1.0000e+00, 1.5178e-05, 1.0000e+00,\n",
       "        1.6742e-07, 1.0000e+00, 1.0000e+00, 5.7099e-09, 1.6394e-06, 1.9824e-08,\n",
       "        3.9086e-07, 9.9997e-01, 3.5087e-01, 4.0092e-09, 2.4024e-07, 1.2921e-07,\n",
       "        1.0000e+00, 1.0000e+00, 1.0000e+00, 9.9999e-01, 1.0000e+00, 3.5192e-07,\n",
       "        4.1847e-09, 2.8433e-09, 5.3349e-04, 7.8392e-03, 1.0000e+00, 1.0000e+00,\n",
       "        1.0000e+00, 1.5490e-09, 3.3331e-08, 1.0000e+00, 1.0000e+00, 9.9999e-01,\n",
       "        1.0000e+00, 9.9998e-01, 1.6196e-08, 3.9971e-08, 1.8508e-02, 1.0000e+00,\n",
       "        1.0000e+00, 1.0000e+00], device='cuda:0')"
      ]
     },
     "execution_count": 69,
     "metadata": {},
     "output_type": "execute_result"
    }
   ],
   "source": [
    "torch.sigmoid(lane_pred_classes)"
   ]
  },
  {
   "cell_type": "code",
   "execution_count": 90,
   "id": "50005fb1-b1af-4aa3-9590-b6ca840d15ea",
   "metadata": {},
   "outputs": [
    {
     "data": {
      "text/plain": [
       "<matplotlib.image.AxesImage at 0x14eab05a1310>"
      ]
     },
     "execution_count": 90,
     "metadata": {},
     "output_type": "execute_result"
    },
    {
     "data": {
      "image/png": "[encoded data removed]",
      "text/plain": [
       "<Figure size 640x480 with 1 Axes>"
      ]
     },
     "metadata": {},
     "output_type": "display_data"
    }
   ],
   "source": [
    "#out = model(batch)\n",
    "lane_pred_vectors = out['vector']['LANES']['vector'][0]\n",
    "lane_pred_classes = out['vector']['LANES']['mask'][0]\n",
    "lane_gts = batch['targets']['LANES']['vector'][0]\n",
    "lane_classes = batch['targets']['LANES']['mask'][0]\n",
    "\n",
    "\n",
    "mask = torch.sigmoid(lane_pred_classes) > 0.9\n",
    "lane_pred_vectors = lane_pred_vectors[mask]\n",
    "\n",
    "sample = valset.samples[1000]   #valset.samples[1000] #trainset.samples[2000]\n",
    "egopose = nusc.get('ego_pose', nusc.get('sample_data', sample['data']['LIDAR_TOP'])['ego_pose_token'])\n",
    "trans = egopose['translation']\n",
    "rot = egopose['rotation']\n",
    "sample_token = sample['token']\n",
    "\n",
    "map_name = trainset.lane_rasterizer.helper.get_map_name_from_sample_token(sample_token)\n",
    "\n",
    "x, y = trans[:2]                                                                          # ego trans\n",
    "yaw = quaternion_yaw(Quaternion(rot)) \n",
    "\n",
    "agent_x, agent_y = x, y  \n",
    "agent_yaw = yaw \n",
    "radius=64\n",
    "image_resolution=trainset.lane_rasterizer.resolution\n",
    "discretization_resolution_meters=1\n",
    "map_api=trainset.lane_rasterizer.maps[map_name]\n",
    "\n",
    "agent_pixels = int(trainset.image_side_length_pixels / 2), int(trainset.image_side_length_pixels / 2)\n",
    "base_image = np.full((trainset.image_side_length_pixels, trainset.image_side_length_pixels, 3), 255.)\n",
    "\n",
    "lanes = (lane_pred_vectors * 0.5 + 0.5) * 256.0 #get_lanes_in_radius(agent_x, agent_y, radius, discretization_resolution_meters, map_api)\n",
    "#lane_gts\n",
    "image = base_image\n",
    "agent_global_coords = (agent_x, agent_y)\n",
    "agent_yaw_in_radians = agent_yaw\n",
    "agent_pixels = agent_pixels\n",
    "resolution = image_resolution\n",
    "color_function=color_by_yaw\n",
    "rotation_mat = get_rotation_matrix(base_image.shape, agent_yaw)\n",
    "lanes_eliminated = []\n",
    "mask = np.zeros((trainset.image_side_length_pixels, trainset.image_side_length_pixels, 1))\n",
    "\n",
    "num_lines = 50\n",
    "num_line_poses = 20\n",
    "lanes_in_frame = []\n",
    "\n",
    "for poses_along_lane in lanes: #.values():\n",
    "\n",
    "    for start_pose, end_pose in zip(poses_along_lane[:-1], poses_along_lane[1:]):\n",
    "\n",
    "        start_pixels = start_pose.detach().cpu() #convert_to_pixel_coords(start_pose[:2], agent_global_coords, agent_pixels, resolution)\n",
    "        end_pixels = end_pose.detach().cpu()     #convert_to_pixel_coords(end_pose[:2], agent_global_coords, agent_pixels, resolution)\n",
    "\n",
    "        dx = end_pixels[0] - start_pixels[0]\n",
    "        dy = end_pixels[1] - start_pixels[1]\n",
    "        angle_radians = torch.atan2(dx, dy)\n",
    "\n",
    "        start_pixels = start_pixels.numpy()\n",
    "        end_pixels = end_pixels.numpy()\n",
    "        \n",
    "        start_pixels = (start_pixels[0].astype(int), start_pixels[1].astype(int))\n",
    "        end_pixels = (end_pixels[0].astype(int), end_pixels[1].astype(int))\n",
    "\n",
    "        if start_pixels == (128, 128) and end_pixels == (128, 128):\n",
    "            continue\n",
    "\n",
    "        #rotation_mat = get_rotation_matrix(base_image.shape, agent_yaw)\n",
    "        \n",
    "        #start_array = np.array(start_pixels, dtype=np.float32).reshape(1, 2)\n",
    "        #end_array   = np.array(end_pixels,   dtype=np.float32).reshape(1, 2)\n",
    "        \n",
    "        #rotated_start = rotate_points_2d(start_array, rotation_mat)[0]\n",
    "        #rotated_end   = rotate_points_2d(end_array,   rotation_mat)[0]\n",
    "        \n",
    "        #rotated_start = tuple(rotated_start.astype(int))\n",
    "        #rotated_end   = tuple(rotated_end.astype(int))\n",
    "\n",
    "        #if rotated_start[0] >= trainset.image_side_length_pixels or rotated_start[0] < 0 or rotated_start[1] >= trainset.image_side_length_pixels or rotated_start[1] < 0:\n",
    "        #    continue\n",
    "        \n",
    "        # 3. Convert to degrees if desired\n",
    "        angle = angle_diff(angle_radians.item(), 0,  2*np.pi) + np.pi\n",
    "        #angle = angle_diff(agent_yaw_in_radians,  start_pose[2], 2*np.pi) + np.pi # [-pi, +pi] + pi --> [0, 2*pi]\n",
    "        #u = np.cos(angle)    # -1, 1\n",
    "        #v = np.sin(angle)    # -1, 1\n",
    "        #lanes_raster[rotated_start[1], rotated_start[0]] = np.array([u, v])       # encoding relative orientation\n",
    "            \n",
    "        #lanes_eliminated[-1].append(rotated_start)\n",
    "        \n",
    "        color = color_function(0, angle)  #(0, 255, 0) #\n",
    "        cv2.line(image, start_pixels, end_pixels, color, thickness=2)\n",
    "\n",
    "plt.imshow(image.astype('uint8'))"
   ]
  },
  {
   "cell_type": "code",
   "execution_count": 38,
   "id": "afa1798c-7015-41ec-afd2-db71bbfd4135",
   "metadata": {},
   "outputs": [
    {
     "data": {
      "text/plain": [
       "<matplotlib.image.AxesImage at 0x14eab1432250>"
      ]
     },
     "execution_count": 38,
     "metadata": {},
     "output_type": "execute_result"
    },
    {
     "data": {
      "image/png": "[encoded data removed]",
      "text/plain": [
       "<Figure size 640x480 with 1 Axes>"
      ]
     },
     "metadata": {},
     "output_type": "display_data"
    }
   ],
   "source": [
    "plt.imshow(batch['color_mask'].permute(1,2,0).numpy())"
   ]
  },
  {
   "cell_type": "code",
   "execution_count": 132,
   "id": "2724e8d9-c6bf-46b3-b914-a76f050ac34d",
   "metadata": {},
   "outputs": [
    {
     "name": "stderr",
     "output_type": "stream",
     "text": [
      "Clipping input data to the valid range for imshow with RGB data ([0..1] for floats or [0..255] for integers).\n"
     ]
    },
    {
     "data": {
      "text/plain": [
       "<matplotlib.image.AxesImage at 0x1517d2aeab10>"
      ]
     },
     "execution_count": 132,
     "metadata": {},
     "output_type": "execute_result"
    },
    {
     "data": {
      "image/png": "[encoded data removed]",
      "text/plain": [
       "<Figure size 640x480 with 1 Axes>"
      ]
     },
     "metadata": {},
     "output_type": "display_data"
    }
   ],
   "source": [
    "from torchvision import transforms\n",
    "alpha = 0.1\n",
    "\n",
    "foreground_tensor = color_mask\n",
    "background_tensor = batch['color_mask'][0]\n",
    "\n",
    "output_tensor = foreground_tensor - background_tensor\n",
    "\n",
    "plt.imshow(output_tensor.permute(1,2,0).numpy())"
   ]
  },
  {
   "cell_type": "code",
   "execution_count": 136,
   "id": "3bfbd482-dcc2-4a59-8edb-747e9947f4c3",
   "metadata": {},
   "outputs": [
    {
     "name": "stderr",
     "output_type": "stream",
     "text": [
      "Clipping input data to the valid range for imshow with RGB data ([0..1] for floats or [0..255] for integers).\n"
     ]
    },
    {
     "data": {
      "text/plain": [
       "<matplotlib.image.AxesImage at 0x1517d28438d0>"
      ]
     },
     "execution_count": 136,
     "metadata": {},
     "output_type": "execute_result"
    },
    {
     "data": {
      "image/png": "[encoded data removed]",
      "text/plain": [
       "<Figure size 640x480 with 1 Axes>"
      ]
     },
     "metadata": {},
     "output_type": "display_data"
    }
   ],
   "source": [
    "from torchvision import transforms\n",
    "alpha = 0.1\n",
    "\n",
    "foreground_tensor = color_mask\n",
    "background_tensor = batch['color_mask'][0]\n",
    "\n",
    "output_tensor = foreground_tensor - background_tensor\n",
    "\n",
    "plt.imshow(output_tensor.permute(1,2,0).numpy())"
   ]
  },
  {
   "cell_type": "code",
   "execution_count": 32,
   "id": "85d79fe6-f90f-4f2d-ae21-b72ab4a2fd21",
   "metadata": {},
   "outputs": [],
   "source": [
    "out = model(batch)"
   ]
  },
  {
   "cell_type": "code",
   "execution_count": 34,
   "id": "436c369d-62fb-4af2-8a0f-095c94dec38a",
   "metadata": {},
   "outputs": [
    {
     "data": {
      "text/plain": [
       "dict_keys(['total_loss', 'loss_details', 'lanes_matching', 'vehicles_matching', 'latent', 'vector'])"
      ]
     },
     "execution_count": 34,
     "metadata": {},
     "output_type": "execute_result"
    }
   ],
   "source": [
    "out.keys()"
   ]
  },
  {
   "cell_type": "code",
   "execution_count": 41,
   "id": "3563f2b3-61b3-448d-805f-ea4f3c211c7b",
   "metadata": {},
   "outputs": [],
   "source": [
    "lanes_vector = out['vector']['LANES']\n",
    "vehicles_vector = out['vector']['VEHICLES']"
   ]
  },
  {
   "cell_type": "code",
   "execution_count": 46,
   "id": "36c7def6-72ed-43aa-bade-9e1d0d4da78c",
   "metadata": {},
   "outputs": [],
   "source": [
    "lane_preds = out['vector']['LANES']['vector']\n",
    "lane_logits = out['vector']['LANES']['mask']\n",
    "vehicle_preds = out['vector']['VEHICLES']['vector']\n",
    "vehicle_logits = out['vector']['VEHICLES']['mask']"
   ]
  },
  {
   "cell_type": "code",
   "execution_count": 414,
   "id": "daf61052-b18a-4936-a405-a7e13b27dc0b",
   "metadata": {
    "scrolled": true
   },
   "outputs": [
    {
     "name": "stdout",
     "output_type": "stream",
     "text": [
      "dict_keys(['0b329001-40fd-4b09-99b0-a744cb6f8891', '1b209e29-797c-4b32-805a-58e9bed7ae3d', '3bac4824-a79c-45c4-8332-42e6038c04b7', '5e051bcf-0605-441b-8318-63177c75f438', '71747025-c802-45c7-892a-141f0d3d9242', '7c1d1b20-9eff-4dc5-9c56-b9b8930019be', 'a896b0cc-e458-4781-8a5c-58c9a9910d65', 'ae6d467a-7f5c-4d84-9df0-ed4a0700341d', 'b72aa810-1f80-42a3-a811-e78a377bf874', 'c7dab27d-0e77-4c7b-b4f6-7947211e2ce9', 'd55a8de1-9a12-433d-8f10-42b1f0fdc5c5', 'e37338d9-073c-4135-94f7-75460028de90', 'a8bd72aa-c845-4bc1-a29c-6cfd6ee596a2', 'efedc9a8-d27b-496e-876e-a47c54cc4465', '9f7cc35a-d727-4267-b9f8-30f20ababff8', 'afb9984a-78c5-4893-9733-0abce8f36468', 'f2ba81d3-0692-48a1-8458-371647bf600d', 'e79847eb-3f28-4db5-8752-7f52f59a03f2', 'a55cc2e8-835f-4ac9-b03d-50b3ee2bc779', '6199ff16-5da3-4ab0-a23b-c1d3c6b842ff', '694da7dd-0d2f-4ed5-90b5-ee795f7c5a59', '01f17a52-b525-4609-b190-d2160a3424e0', '3e0d005f-c477-4dba-b120-53298ebe77ef', '9ee82b1d-109b-47f5-9a2a-026c79fa87c6', 'b4cc81c0-8f7b-4438-a8a9-dd8ac1c02ecb', '366d4744-1007-42ef-9d4e-4c154f86cd1f', '8ee52207-75c7-4e1b-8adc-e4009f01b682', '52cbed63-81f2-4f27-a30d-df9cef4b9468'])\n"
     ]
    },
    {
     "data": {
      "text/plain": [
       "<matplotlib.image.AxesImage at 0x1514a8d6ffd0>"
      ]
     },
     "execution_count": 414,
     "metadata": {},
     "output_type": "execute_result"
    },
    {
     "data": {
      "image/png": "[encoded data removed]",
      "text/plain": [
       "<Figure size 640x480 with 1 Axes>"
      ]
     },
     "metadata": {},
     "output_type": "display_data"
    }
   ],
   "source": [
    "import matplotlib.pyplot as plt\n",
    "from nuscenes.prediction import PredictHelper\n",
    "\n",
    "helper = PredictHelper(nusc)\n",
    "\n",
    "from nuscenes.prediction.input_representation.static_layers import StaticLayerRasterizer, draw_lanes_in_agent_frame, get_lanes_in_radius, draw_lanes_on_image, color_by_yaw, get_patchbox\n",
    "from nuscenes.prediction.input_representation.agents import AgentBoxesWithFadedHistory\n",
    "from nuscenes.prediction.input_representation.interface import InputRepresentation\n",
    "from nuscenes.prediction.input_representation.combinators import Rasterizer\n",
    "from nuscenes.prediction.input_representation.utils import get_crops, get_rotation_matrix, convert_to_pixel_coords\n",
    "from nuscenes.eval.common.utils import quaternion_yaw\n",
    "from nuscenes.prediction.helper import angle_of_rotation, angle_diff\n",
    "    \n",
    "static_layer_rasterizer = StaticLayerRasterizer(helper)\n",
    "'''\n",
    "sample_token_img = valset.samples[0]['token']   #'3481dbfd65864925b4a4b2d6b7256d44'\n",
    "map_name = static_layer_rasterizer.helper.get_map_name_from_sample_token(sample_token_img)\n",
    "\n",
    "x, y = np.array([427.96858346929594 ,1622.1558281210846])                                                                          # ego trans\n",
    "yaw = quaternion_yaw(Quaternion(np.array([0.27668389210179944, -0.0026796705507768723, 0.00471221945277763, 0.9609456999253227]))) # ego rot\n",
    "'''\n",
    "sample = valset.samples[0] #trainset.samples[2000]\n",
    "egopose = nusc.get('ego_pose', nusc.get('sample_data', sample['data']['LIDAR_TOP'])['ego_pose_token'])\n",
    "trans = egopose['translation']\n",
    "rot = egopose['rotation']\n",
    "sample_token = sample['token']\n",
    "\n",
    "map_name = trainset.lane_rasterizer.helper.get_map_name_from_sample_token(sample_token)\n",
    "\n",
    "x, y = trans[:2]                                                                          # ego trans\n",
    "yaw = quaternion_yaw(Quaternion(rot)) \n",
    "\n",
    "static_layer_rasterizer.meters_ahead = 64.0\n",
    "static_layer_rasterizer.meters_behind = 64.0\n",
    "static_layer_rasterizer.meters_left = 64.0\n",
    "static_layer_rasterizer.meters_right = 64.0\n",
    "static_layer_rasterizer.resolution = 0.5\n",
    "\n",
    "image_side_length = 2 * max(static_layer_rasterizer.meters_ahead, static_layer_rasterizer.meters_behind,\n",
    "                            static_layer_rasterizer.meters_left, static_layer_rasterizer.meters_right)\n",
    "image_side_length_pixels = int(image_side_length / static_layer_rasterizer.resolution)\n",
    "\n",
    "patchbox = get_patchbox(x, y, image_side_length)\n",
    "canvas_size = (image_side_length_pixels, image_side_length_pixels)\n",
    "\n",
    "images = []\n",
    "\n",
    "agent_x, agent_y = x, y  \n",
    "agent_yaw = yaw \n",
    "radius=64\n",
    "image_resolution=static_layer_rasterizer.resolution\n",
    "discretization_resolution_meters=1\n",
    "map_api=static_layer_rasterizer.maps[map_name]\n",
    "\n",
    "agent_pixels = int(image_side_length_pixels / 2), int(image_side_length_pixels / 2)\n",
    "base_image = np.full((image_side_length_pixels, image_side_length_pixels, 3), 255.0)\n",
    "\n",
    "lanes = get_lanes_in_radius(agent_x, agent_y, radius, discretization_resolution_meters, map_api)\n",
    "print(lanes.keys())\n",
    "new_lane = lanes\n",
    "\n",
    "image = base_image\n",
    "lanes = new_lane\n",
    "agent_global_coords = (agent_x, agent_y)\n",
    "agent_yaw_in_radians = agent_yaw\n",
    "agent_pixels = agent_pixels\n",
    "resolution = image_resolution\n",
    "color_function=color_by_yaw\n",
    "\n",
    "def rotate_points_2d(points, rotation_mat):\n",
    "    num_points = points.shape[0]\n",
    "    ones = np.ones((num_points, 1))\n",
    "    points_hom = np.hstack([points, ones])  # shape (N, 3)\n",
    "    \n",
    "    rotated_hom = points_hom.dot(rotation_mat.T)  # (N,3) * (3,2) = (N,2)\n",
    "    \n",
    "    return rotated_hom\n",
    "\n",
    "import numpy as np\n",
    "\n",
    "def resample_lane_pts(lane_points, num_samples=20):\n",
    "    \"\"\"\n",
    "    Resample a lane (list/array of (x, y) points) into 'num_samples' equally spaced points.\n",
    "    \n",
    "    :param lane_points: Nx2 array-like of x, y coordinates\n",
    "    :param num_samples: number of desired sample points in output\n",
    "    :return: (num_samples x 2) array of resampled x, y coordinates\n",
    "    \"\"\"\n",
    "    lane_points = np.asarray(lane_points, dtype=float)\n",
    "        \n",
    "    diffs = lane_points[1:] - lane_points[:-1]      # (N-1, 2)\n",
    "    seg_lengths = np.sqrt((diffs**2).sum(axis=1))   # (N-1,)\n",
    "    \n",
    "    cum_lengths = np.insert(np.cumsum(seg_lengths), 0, 0.0)  # shape: (N,)\n",
    "    total_length = cum_lengths[-1]\n",
    "    \n",
    "    target_distances = np.linspace(0, total_length, num=num_samples, endpoint=True)\n",
    "    \n",
    "    resampled_points = []\n",
    "    \n",
    "    seg_index = 0\n",
    "    for dist in target_distances:\n",
    "        while seg_index < len(cum_lengths) - 2 and dist > cum_lengths[seg_index + 1]:\n",
    "            seg_index += 1\n",
    "        \n",
    "        seg_start_length = cum_lengths[seg_index]\n",
    "        seg_end_length   = cum_lengths[seg_index + 1]\n",
    "        \n",
    "        seg_frac = (dist - seg_start_length) / (seg_end_length - seg_start_length + 1e-9)\n",
    "        seg_frac = np.clip(seg_frac, 0.0, 1.0)  \n",
    "        \n",
    "        pt_start = lane_points[seg_index]\n",
    "        pt_end   = lane_points[seg_index + 1]\n",
    "        \n",
    "        interp_xy = pt_start + seg_frac * (pt_end - pt_start)\n",
    "        resampled_points.append(interp_xy)\n",
    "    \n",
    "    return np.array(resampled_points)\n",
    "\n",
    "\n",
    "rotation_mat = get_rotation_matrix(base_image.shape, agent_yaw)\n",
    "lanes_eliminated = []\n",
    "mask = np.zeros((image_side_length_pixels, image_side_length_pixels, 1))\n",
    "\n",
    "\n",
    "num_lines = 50\n",
    "num_line_poses = 20\n",
    "lanes_raster = np.zeros((image_side_length_pixels, image_side_length_pixels, 2))\n",
    "lanes_vector = np.zeros((num_lines, num_line_poses, 2), dtype=np.float32)\n",
    "lanes_labels = np.zeros((num_lines), dtype=bool)\n",
    "lanes_in_frame = []\n",
    "\n",
    "for poses_along_lane in lanes.values():\n",
    "\n",
    "    lanes_eliminated.append([])\n",
    "    \n",
    "    for start_pose, end_pose in zip(poses_along_lane[:-1], poses_along_lane[1:]):\n",
    "\n",
    "        start_pixels = convert_to_pixel_coords(start_pose[:2], agent_global_coords, agent_pixels, resolution)\n",
    "        end_pixels = convert_to_pixel_coords(end_pose[:2], agent_global_coords, agent_pixels, resolution)\n",
    "\n",
    "        start_pixels = (start_pixels[1], start_pixels[0])\n",
    "        end_pixels = (end_pixels[1], end_pixels[0])\n",
    "\n",
    "        rotation_mat = get_rotation_matrix(base_image.shape, agent_yaw)\n",
    "        \n",
    "        start_array = np.array(start_pixels, dtype=np.float32).reshape(1, 2)\n",
    "        end_array   = np.array(end_pixels,   dtype=np.float32).reshape(1, 2)\n",
    "        \n",
    "        rotated_start = rotate_points_2d(start_array, rotation_mat)[0]\n",
    "        rotated_end   = rotate_points_2d(end_array,   rotation_mat)[0]\n",
    "        \n",
    "        rotated_start = tuple(rotated_start.astype(int))\n",
    "        rotated_end   = tuple(rotated_end.astype(int))\n",
    "\n",
    "        if rotated_start[0] >= image_side_length_pixels or rotated_start[0] < 0 or rotated_start[1] >= image_side_length_pixels or rotated_start[1] < 0:\n",
    "            continue\n",
    "        \n",
    "        angle = angle_diff(agent_yaw_in_radians,  start_pose[2], 2*np.pi) + np.pi # [-pi, +pi] + pi --> [0, 2*pi]\n",
    "        u = np.cos(angle)    # -1, 1\n",
    "        v = np.sin(angle)    # -1, 1\n",
    "        lanes_raster[rotated_start[1], rotated_start[0]] = np.array([u, v])       # encoding relative orientation\n",
    "\n",
    "        lanes_eliminated[-1].append(rotated_start)\n",
    "        \n",
    "        color = color_function(agent_yaw_in_radians, start_pose[2])\n",
    "\n",
    "        cv2.line(image, rotated_start, rotated_end, color, thickness=2)\n",
    "        \n",
    "    cur_lane = lanes_eliminated[-1]\n",
    "    if len(cur_lane) < 3:\n",
    "        for pixel in cur_lane: \n",
    "            lanes_raster[pixel[1], pixel[0]][0] = 0 \n",
    "            lanes_raster[pixel[1], pixel[0]][1] = 0 \n",
    "        continue\n",
    "    lanes_in_frame.append(cur_lane)\n",
    "\n",
    "\n",
    "for lane_idx, lane in enumerate(lanes_in_frame):\n",
    "    lane_pts_sampled = resample_lane_pts(lane, num_samples=num_line_poses)\n",
    "    lanes_vector[lane_idx] = lane_pts_sampled\n",
    "\n",
    "lanes_labels[: len(lanes_in_frame)] = True\n",
    "\n",
    "plt.imshow(image.astype(\"uint8\")) #lanes_raster[:,:,0]) #image.astype(\"uint8\")) #"
   ]
  },
  {
   "cell_type": "code",
   "execution_count": 295,
   "id": "651f0f8c-916d-45aa-9610-0d2a7ba81aba",
   "metadata": {},
   "outputs": [
    {
     "data": {
      "text/plain": [
       "array([[0., 0., 0., ..., 0., 0., 0.],\n",
       "       [0., 0., 0., ..., 0., 0., 0.],\n",
       "       [0., 0., 0., ..., 0., 0., 0.],\n",
       "       ...,\n",
       "       [0., 0., 0., ..., 0., 0., 0.],\n",
       "       [0., 0., 0., ..., 0., 0., 0.],\n",
       "       [0., 0., 0., ..., 0., 0., 0.]])"
      ]
     },
     "execution_count": 295,
     "metadata": {},
     "output_type": "execute_result"
    }
   ],
   "source": [
    "mask"
   ]
  },
  {
   "cell_type": "code",
   "execution_count": 277,
   "id": "fb4c99d0-a02a-47b2-8360-7d0dbb14c1a6",
   "metadata": {},
   "outputs": [
    {
     "name": "stderr",
     "output_type": "stream",
     "text": [
      "Clipping input data to the valid range for imshow with RGB data ([0..1] for floats or [0..255] for integers).\n"
     ]
    },
    {
     "data": {
      "text/plain": [
       "<matplotlib.image.AxesImage at 0x14c15436fd90>"
      ]
     },
     "execution_count": 277,
     "metadata": {},
     "output_type": "execute_result"
    },
    {
     "data": {
      "image/png": "[encoded data removed]",
      "text/plain": [
       "<Figure size 640x480 with 1 Axes>"
      ]
     },
     "metadata": {},
     "output_type": "display_data"
    }
   ],
   "source": [
    "plt.imshow(image) "
   ]
  },
  {
   "cell_type": "code",
   "execution_count": 229,
   "id": "e1cc5a77-f492-484c-bdc7-e155c663e289",
   "metadata": {},
   "outputs": [
    {
     "data": {
      "text/plain": [
       "<matplotlib.image.AxesImage at 0x14c06fc6bd10>"
      ]
     },
     "execution_count": 229,
     "metadata": {},
     "output_type": "execute_result"
    },
    {
     "data": {
      "image/png": "[encoded data removed]",
      "text/plain": [
       "<Figure size 640x480 with 1 Axes>"
      ]
     },
     "metadata": {},
     "output_type": "display_data"
    }
   ],
   "source": [
    "plt.imshow(image[row_crop, col_crop, :]) "
   ]
  },
  {
   "cell_type": "code",
   "execution_count": 111,
   "id": "87c0f881-92a9-4183-867f-634d317819fd",
   "metadata": {},
   "outputs": [
    {
     "name": "stdout",
     "output_type": "stream",
     "text": [
      "Generating cache for idx: 0\n",
      "tensor([-1.6012, -1.6006, -1.5831, -1.5657, -0.2683, -0.2170, -0.0991,  0.0000,\n",
      "         1.5566,  1.5589,  1.5679,  1.5903,  1.6229,  1.6340,  3.0504],\n",
      "       dtype=torch.float64)\n",
      "tensor([0.2452, 0.2453, 0.2480, 0.2508, 0.4573, 0.4655, 0.4842, 0.5000, 0.7477,\n",
      "        0.7481, 0.7495, 0.7531, 0.7583, 0.7601, 0.9855], dtype=torch.float64)\n"
     ]
    },
    {
     "name": "stderr",
     "output_type": "stream",
     "text": [
      "/scratch/tmp/ipykernel_532034/1985543452.py:342: UserWarning: To copy construct from a tensor, it is recommended to use sourceTensor.clone().detach() or sourceTensor.clone().detach().requires_grad_(True), rather than torch.tensor(sourceTensor).\n",
      "  u = torch.cos(torch.tensor(theta)).item()     # between -1 and 1\n",
      "/scratch/tmp/ipykernel_532034/1985543452.py:343: UserWarning: To copy construct from a tensor, it is recommended to use sourceTensor.clone().detach() or sourceTensor.clone().detach().requires_grad_(True), rather than torch.tensor(sourceTensor).\n",
      "  v = torch.sin(torch.tensor(theta)).item()    # between -1 and 1\n"
     ]
    }
   ],
   "source": [
    "target = trainset[0]"
   ]
  },
  {
   "cell_type": "code",
   "execution_count": 69,
   "id": "2f27d9ef-b15c-494a-bd07-81e66da4587b",
   "metadata": {},
   "outputs": [
    {
     "data": {
      "text/plain": [
       "<matplotlib.image.AxesImage at 0x1475bb042ed0>"
      ]
     },
     "execution_count": 69,
     "metadata": {},
     "output_type": "execute_result"
    },
    {
     "data": {
      "image/png": "[encoded data removed]",
      "text/plain": [
       "<Figure size 640x480 with 1 Axes>"
      ]
     },
     "metadata": {},
     "output_type": "display_data"
    }
   ],
   "source": [
    "plt.imshow(color_mask.permute(1,2,0).detach())"
   ]
  },
  {
   "cell_type": "code",
   "execution_count": 118,
   "id": "a07df793-d526-4980-82b4-c9b767350add",
   "metadata": {},
   "outputs": [
    {
     "data": {
      "text/plain": [
       "<matplotlib.image.AxesImage at 0x147af2393690>"
      ]
     },
     "execution_count": 118,
     "metadata": {},
     "output_type": "execute_result"
    },
    {
     "data": {
      "image/png": "[encoded data removed]",
      "text/plain": [
       "<Figure size 640x480 with 1 Axes>"
      ]
     },
     "metadata": {},
     "output_type": "display_data"
    }
   ],
   "source": [
    "plt.imshow(target['features'][:,:,3].detach()) #.shape"
   ]
  },
  {
   "cell_type": "code",
   "execution_count": 85,
   "id": "1106032b-414f-49ab-b45c-fe72c1798045",
   "metadata": {},
   "outputs": [
    {
     "name": "stderr",
     "output_type": "stream",
     "text": [
      "Clipping input data to the valid range for imshow with RGB data ([0..1] for floats or [0..255] for integers).\n"
     ]
    },
    {
     "data": {
      "text/plain": [
       "<matplotlib.image.AxesImage at 0x14c0f79905d0>"
      ]
     },
     "execution_count": 85,
     "metadata": {},
     "output_type": "execute_result"
    },
    {
     "data": {
      "image/png": "[encoded data removed]",
      "text/plain": [
       "<Figure size 640x480 with 1 Axes>"
      ]
     },
     "metadata": {},
     "output_type": "display_data"
    }
   ],
   "source": [
    "plt.imshow(rgb_mask.permute(1,2,0))"
   ]
  },
  {
   "cell_type": "code",
   "execution_count": 89,
   "id": "78225296-e23e-4a09-8a4e-882abb7912ed",
   "metadata": {},
   "outputs": [
    {
     "data": {
      "image/png": "[encoded data removed]",
      "text/plain": [
       "<Figure size 600x600 with 1 Axes>"
      ]
     },
     "metadata": {},
     "output_type": "display_data"
    }
   ],
   "source": [
    "import numpy as np\n",
    "import matplotlib.pyplot as plt\n",
    "\n",
    "# Grid size\n",
    "N = 512\n",
    "\n",
    "# Create a meshgrid in the range [-1, 1] for both X and Y\n",
    "x = np.linspace(-1, 1, N)\n",
    "y = np.linspace(-1, 1, N)\n",
    "X, Y = np.meshgrid(x, y)\n",
    "\n",
    "# Convert to polar coordinates\n",
    "R = np.sqrt(X**2 + Y**2)\n",
    "Theta = np.arctan2(Y, X)   # range: (-π, π]\n",
    "Theta = np.mod(Theta, 2 * np.pi)  # force range to [0, 2π)\n",
    "\n",
    "# Normalize to [0, 1] for the colormap\n",
    "Theta_norm = (Theta ) / (2 * np.pi)\n",
    "\n",
    "# Mask values outside the unit circle (R > 1)\n",
    "Theta_norm[R > 1] = np.nan\n",
    "\n",
    "plt.figure(figsize=(6,6))\n",
    "plt.imshow(Theta_norm, cmap='hsv', origin='lower', extent=(-1,1,-1,1))\n",
    "plt.axis('equal')\n",
    "plt.axis('off')   # optional, to hide axis\n",
    "plt.title(\"Color Wheel\")\n",
    "#plt.colorbar(label=\"Angle (normalized to [0,1])\")\n",
    "plt.show()"
   ]
  },
  {
   "cell_type": "code",
   "execution_count": 71,
   "id": "49055c63-461b-4c7e-aa30-2305cd56c688",
   "metadata": {},
   "outputs": [
    {
     "data": {
      "text/plain": [
       "<matplotlib.image.AxesImage at 0x151cc6b56310>"
      ]
     },
     "execution_count": 71,
     "metadata": {},
     "output_type": "execute_result"
    },
    {
     "data": {
      "image/png": "[encoded data removed]",
      "text/plain": [
       "<Figure size 640x480 with 1 Axes>"
      ]
     },
     "metadata": {},
     "output_type": "display_data"
    }
   ],
   "source": [
    "plt.imshow(color_mask.permute(1,2,0).detach())"
   ]
  },
  {
   "cell_type": "code",
   "execution_count": null,
   "id": "8b6d8759-490a-4301-b302-57f330898111",
   "metadata": {},
   "outputs": [],
   "source": []
  }
 ],
 "metadata": {
  "kernelspec": {
   "display_name": "Python 3 (ipykernel)",
   "language": "python",
   "name": "python3"
  },
  "language_info": {
   "codemirror_mode": {
    "name": "ipython",
    "version": 3
   },
   "file_extension": ".py",
   "mimetype": "text/x-python",
   "name": "python",
   "nbconvert_exporter": "python",
   "pygments_lexer": "ipython3",
   "version": "3.11.9"
  }
 },
 "nbformat": 4,
 "nbformat_minor": 5
}
